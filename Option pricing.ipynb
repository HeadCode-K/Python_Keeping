{
 "cells": [
  {
   "cell_type": "code",
   "execution_count": 1,
   "metadata": {},
   "outputs": [],
   "source": [
    "\n",
    "import math\n",
    "import numpy as np\n",
    "import matplotlib as mpl\n",
    "import matplotlib.pyplot as plt\n",
    "from scipy.integrate import quad\n",
    "mpl.rcParams['font.family'] = 'serif'"
   ]
  },
  {
   "cell_type": "code",
   "execution_count": null,
   "metadata": {},
   "outputs": [],
   "source": [
    "# CRR Euro_option\n",
    "def CRR_Euro_value(S0,K,T,r,sigma,otype,M=4):\n",
    "    ''' Cox-Ross-Rubinstein European option valuation.\n",
    "    Parameters\n",
    "    ==========\n",
    "    S0 : float\n",
    "        stock/index level at time 0\n",
    "    K : float\n",
    "        strike price\n",
    "    T : float\n",
    "        date of maturity\n",
    "    r : float\n",
    "        constant, risk-less short rate\n",
    "    sigma : float\n",
    "        volatility\n",
    "    otype : string\n",
    "        either 'call' or 'put'\n",
    "    M : int\n",
    "        number of time intervals\n",
    "    '''\n",
    "    # Generate Bionomial tree\n",
    "    dt = T/M"
   ]
  }
 ],
 "metadata": {
  "kernelspec": {
   "display_name": "Python 3",
   "language": "python",
   "name": "python3"
  },
  "language_info": {
   "codemirror_mode": {
    "name": "ipython",
    "version": 3
   },
   "file_extension": ".py",
   "mimetype": "text/x-python",
   "name": "python",
   "nbconvert_exporter": "python",
   "pygments_lexer": "ipython3",
   "version": "3.7.6"
  }
 },
 "nbformat": 4,
 "nbformat_minor": 4
}
